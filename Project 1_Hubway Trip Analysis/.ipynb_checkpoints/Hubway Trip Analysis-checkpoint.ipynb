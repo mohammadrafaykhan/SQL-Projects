{
 "cells": [
  {
   "cell_type": "markdown",
   "metadata": {
    "id": "jnaUBXiD90TP"
   },
   "source": [
    "# Analyzing Hubway Trips in SQL & Python "
   ]
  },
  {
   "cell_type": "markdown",
   "metadata": {},
   "source": [
    "### The db file can be downloaded here --> https://www.dataquest.io/blog/large_files/hubway.db"
   ]
  },
  {
   "cell_type": "code",
   "execution_count": 2,
   "metadata": {},
   "outputs": [
    {
     "name": "stdout",
     "output_type": "stream",
     "text": [
      "Requirement already satisfied: ipython-sql in c:\\users\\moham\\anaconda3\\lib\\site-packages (0.5.0)\n",
      "Requirement already satisfied: six in c:\\users\\moham\\anaconda3\\lib\\site-packages (from ipython-sql) (1.16.0)\n",
      "Requirement already satisfied: sqlparse in c:\\users\\moham\\anaconda3\\lib\\site-packages (from ipython-sql) (0.4.4)\n",
      "Requirement already satisfied: ipython-genutils in c:\\users\\moham\\anaconda3\\lib\\site-packages (from ipython-sql) (0.2.0)\n",
      "Requirement already satisfied: prettytable in c:\\users\\moham\\anaconda3\\lib\\site-packages (from ipython-sql) (3.9.0)\n",
      "Requirement already satisfied: sqlalchemy>=2.0 in c:\\users\\moham\\anaconda3\\lib\\site-packages (from ipython-sql) (2.0.23)\n",
      "Requirement already satisfied: ipython in c:\\users\\moham\\anaconda3\\lib\\site-packages (from ipython-sql) (8.10.0)\n",
      "Requirement already satisfied: greenlet!=0.4.17 in c:\\users\\moham\\anaconda3\\lib\\site-packages (from sqlalchemy>=2.0->ipython-sql) (2.0.1)\n",
      "Requirement already satisfied: typing-extensions>=4.2.0 in c:\\users\\moham\\anaconda3\\lib\\site-packages (from sqlalchemy>=2.0->ipython-sql) (4.4.0)\n",
      "Requirement already satisfied: colorama in c:\\users\\moham\\anaconda3\\lib\\site-packages (from ipython->ipython-sql) (0.4.6)\n",
      "Requirement already satisfied: traitlets>=5 in c:\\users\\moham\\anaconda3\\lib\\site-packages (from ipython->ipython-sql) (5.7.1)\n",
      "Requirement already satisfied: stack-data in c:\\users\\moham\\anaconda3\\lib\\site-packages (from ipython->ipython-sql) (0.2.0)\n",
      "Requirement already satisfied: backcall in c:\\users\\moham\\anaconda3\\lib\\site-packages (from ipython->ipython-sql) (0.2.0)\n",
      "Requirement already satisfied: pygments>=2.4.0 in c:\\users\\moham\\anaconda3\\lib\\site-packages (from ipython->ipython-sql) (2.11.2)\n",
      "Requirement already satisfied: pickleshare in c:\\users\\moham\\anaconda3\\lib\\site-packages (from ipython->ipython-sql) (0.7.5)\n",
      "Requirement already satisfied: prompt-toolkit<3.1.0,>=3.0.30 in c:\\users\\moham\\anaconda3\\lib\\site-packages (from ipython->ipython-sql) (3.0.36)\n",
      "Requirement already satisfied: decorator in c:\\users\\moham\\anaconda3\\lib\\site-packages (from ipython->ipython-sql) (5.1.1)\n",
      "Requirement already satisfied: jedi>=0.16 in c:\\users\\moham\\anaconda3\\lib\\site-packages (from ipython->ipython-sql) (0.18.1)\n",
      "Requirement already satisfied: matplotlib-inline in c:\\users\\moham\\anaconda3\\lib\\site-packages (from ipython->ipython-sql) (0.1.6)\n",
      "Requirement already satisfied: wcwidth in c:\\users\\moham\\anaconda3\\lib\\site-packages (from prettytable->ipython-sql) (0.2.5)\n",
      "Requirement already satisfied: parso<0.9.0,>=0.8.0 in c:\\users\\moham\\anaconda3\\lib\\site-packages (from jedi>=0.16->ipython->ipython-sql) (0.8.3)\n",
      "Requirement already satisfied: executing in c:\\users\\moham\\anaconda3\\lib\\site-packages (from stack-data->ipython->ipython-sql) (0.8.3)\n",
      "Requirement already satisfied: asttokens in c:\\users\\moham\\anaconda3\\lib\\site-packages (from stack-data->ipython->ipython-sql) (2.0.5)\n",
      "Requirement already satisfied: pure-eval in c:\\users\\moham\\anaconda3\\lib\\site-packages (from stack-data->ipython->ipython-sql) (0.2.2)\n"
     ]
    }
   ],
   "source": [
    "!pip install ipython-sql\n",
    "%reload_ext sql\n",
    "%sql sqlite:///hubway.db\n",
    "%config SqlMagic.autocommit=False"
   ]
  },
  {
   "cell_type": "code",
   "execution_count": 8,
   "metadata": {
    "colab": {
     "base_uri": "https://localhost:8080/",
     "height": 85
    },
    "execution": {
     "iopub.execute_input": "2020-11-14T08:05:20.497Z",
     "iopub.status.busy": "2020-11-14T08:05:20.490Z",
     "iopub.status.idle": "2020-11-14T08:05:20.518Z",
     "shell.execute_reply": "2020-11-14T08:05:20.550Z"
    },
    "executionInfo": {
     "elapsed": 1409,
     "status": "ok",
     "timestamp": 1603029308307,
     "user": {
      "displayName": "Mesum Raza Hemani",
      "photoUrl": "https://lh3.googleusercontent.com/a-/AOh14GidvOU7EcW3dR9GgeqiwE51F9W4l8rnlhUGwn_n4A=s64",
      "userId": "02137032281712867702"
     },
     "user_tz": -300
    },
    "id": "3EQywREo90TW",
    "outputId": "ab565bcc-b305-440e-fb22-2cc08a35acb0"
   },
   "outputs": [
    {
     "name": "stdout",
     "output_type": "stream",
     "text": [
      " * sqlite:///hubway.db\n",
      "Done.\n"
     ]
    },
    {
     "data": {
      "text/html": [
       "<table>\n",
       "    <thead>\n",
       "        <tr>\n",
       "            <th>id</th>\n",
       "            <th>duration</th>\n",
       "            <th>start_date</th>\n",
       "            <th>start_station</th>\n",
       "            <th>end_date</th>\n",
       "            <th>end_station</th>\n",
       "            <th>bike_number</th>\n",
       "            <th>sub_type</th>\n",
       "            <th>zip_code</th>\n",
       "            <th>birth_date</th>\n",
       "            <th>gender</th>\n",
       "        </tr>\n",
       "    </thead>\n",
       "    <tbody>\n",
       "        <tr>\n",
       "            <td>1</td>\n",
       "            <td>9</td>\n",
       "            <td>2011-07-28 10:12:00</td>\n",
       "            <td>23</td>\n",
       "            <td>2011-07-28 10:12:00</td>\n",
       "            <td>23</td>\n",
       "            <td>B00468</td>\n",
       "            <td>Registered</td>\n",
       "            <td>&#x27;97217</td>\n",
       "            <td>1976.0</td>\n",
       "            <td>Male</td>\n",
       "        </tr>\n",
       "        <tr>\n",
       "            <td>2</td>\n",
       "            <td>220</td>\n",
       "            <td>2011-07-28 10:21:00</td>\n",
       "            <td>23</td>\n",
       "            <td>2011-07-28 10:25:00</td>\n",
       "            <td>23</td>\n",
       "            <td>B00554</td>\n",
       "            <td>Registered</td>\n",
       "            <td>&#x27;02215</td>\n",
       "            <td>1966.0</td>\n",
       "            <td>Male</td>\n",
       "        </tr>\n",
       "    </tbody>\n",
       "</table>"
      ],
      "text/plain": [
       "[(1, 9, '2011-07-28 10:12:00', 23, '2011-07-28 10:12:00', 23, 'B00468', 'Registered', \"'97217\", 1976.0, 'Male'),\n",
       " (2, 220, '2011-07-28 10:21:00', 23, '2011-07-28 10:25:00', 23, 'B00554', 'Registered', \"'02215\", 1966.0, 'Male')]"
      ]
     },
     "execution_count": 8,
     "metadata": {},
     "output_type": "execute_result"
    }
   ],
   "source": [
    "%sql Select * from Trips limit 2"
   ]
  },
  {
   "cell_type": "code",
   "execution_count": 9,
   "metadata": {},
   "outputs": [
    {
     "data": {
      "text/html": [
       "<div>\n",
       "<style scoped>\n",
       "    .dataframe tbody tr th:only-of-type {\n",
       "        vertical-align: middle;\n",
       "    }\n",
       "\n",
       "    .dataframe tbody tr th {\n",
       "        vertical-align: top;\n",
       "    }\n",
       "\n",
       "    .dataframe thead th {\n",
       "        text-align: right;\n",
       "    }\n",
       "</style>\n",
       "<table border=\"1\" class=\"dataframe\">\n",
       "  <thead>\n",
       "    <tr style=\"text-align: right;\">\n",
       "      <th></th>\n",
       "      <th>id</th>\n",
       "      <th>duration</th>\n",
       "      <th>start_date</th>\n",
       "      <th>start_station</th>\n",
       "      <th>end_date</th>\n",
       "      <th>end_station</th>\n",
       "      <th>bike_number</th>\n",
       "      <th>sub_type</th>\n",
       "      <th>zip_code</th>\n",
       "      <th>birth_date</th>\n",
       "      <th>gender</th>\n",
       "    </tr>\n",
       "  </thead>\n",
       "  <tbody>\n",
       "    <tr>\n",
       "      <th>0</th>\n",
       "      <td>1</td>\n",
       "      <td>9</td>\n",
       "      <td>2011-07-28 10:12:00</td>\n",
       "      <td>23.0</td>\n",
       "      <td>2011-07-28 10:12:00</td>\n",
       "      <td>23.0</td>\n",
       "      <td>B00468</td>\n",
       "      <td>Registered</td>\n",
       "      <td>'97217</td>\n",
       "      <td>1976.0</td>\n",
       "      <td>Male</td>\n",
       "    </tr>\n",
       "    <tr>\n",
       "      <th>1</th>\n",
       "      <td>2</td>\n",
       "      <td>220</td>\n",
       "      <td>2011-07-28 10:21:00</td>\n",
       "      <td>23.0</td>\n",
       "      <td>2011-07-28 10:25:00</td>\n",
       "      <td>23.0</td>\n",
       "      <td>B00554</td>\n",
       "      <td>Registered</td>\n",
       "      <td>'02215</td>\n",
       "      <td>1966.0</td>\n",
       "      <td>Male</td>\n",
       "    </tr>\n",
       "  </tbody>\n",
       "</table>\n",
       "</div>"
      ],
      "text/plain": [
       "   id  duration           start_date  start_station             end_date  \\\n",
       "0   1         9  2011-07-28 10:12:00           23.0  2011-07-28 10:12:00   \n",
       "1   2       220  2011-07-28 10:21:00           23.0  2011-07-28 10:25:00   \n",
       "\n",
       "   end_station bike_number    sub_type zip_code  birth_date gender  \n",
       "0         23.0      B00468  Registered   '97217      1976.0   Male  \n",
       "1         23.0      B00554  Registered   '02215      1966.0   Male  "
      ]
     },
     "execution_count": 9,
     "metadata": {},
     "output_type": "execute_result"
    }
   ],
   "source": [
    "trips.head(2)"
   ]
  },
  {
   "cell_type": "markdown",
   "metadata": {
    "id": "VjnOTBKt90Ta"
   },
   "source": [
    "**About the Dataset and Schema**\n",
    "\n",
    "The database has two tables, trips and stations. To begin with, we'll look at the trips table. It contains the following columns:\n",
    "\n",
    "\n",
    "**Trips:**\n",
    "\n",
    "id — A unique integer that serves as a reference for each trip\n",
    "\n",
    "duration — The duration of the trip, measured in seconds\n",
    "\n",
    "start_date — The date and time the trip began\n",
    "\n",
    "start_station — An integer that corresponds to the id column in the stations table for the station the trip started at\n",
    "\n",
    "end_date — The date and time the trip ended\n",
    "\n",
    "end_station — The 'id' of the station the trip ended at\n",
    "\n",
    "bike_number — Hubway's unique identifier for the bike used on the trip\n",
    "\n",
    "sub_type — The subscription type of the user. \"Registered\" for users with a membership, \"Casual\" for users without a membership\n",
    "\n",
    "zip_code — The zip code of the user (only available for registered members)\n",
    "\n",
    "birth_date — The birth year of the user (only available for registered members)\n",
    "\n",
    "gender — The gender of the user (only available for registered members)\n",
    "\n",
    "\n",
    "**Station:**\n",
    "\n",
    "\n",
    "id — A unique identifier for each station (corresponds to the start_station and end_station columns in the trips table)\n",
    "\n",
    "station — The station name\n",
    "\n",
    "municipality — The municipality that the station is in (Boston, Brookline, Cambridge or Somerville)\n",
    "\n",
    "lat — The latitude of the station\n",
    "\n",
    "lng — The longitude of the station"
   ]
  },
  {
   "cell_type": "markdown",
   "metadata": {
    "id": "hKDibiAy90Tb"
   },
   "source": [
    "## Questions "
   ]
  },
  {
   "cell_type": "markdown",
   "metadata": {
    "id": "CwBUDLCf90Tc"
   },
   "source": [
    "### Q1. What was the duration of the longest trip? What was the average trip duration? What was the smallest trip duration?"
   ]
  },
  {
   "cell_type": "markdown",
   "metadata": {},
   "source": [
    "#### SQL solution"
   ]
  },
  {
   "cell_type": "code",
   "execution_count": 10,
   "metadata": {
    "execution": {
     "iopub.execute_input": "2020-10-21T10:00:46.344Z",
     "iopub.status.busy": "2020-10-21T10:00:46.331Z",
     "iopub.status.idle": "2020-10-21T10:00:48.578Z",
     "shell.execute_reply": "2020-10-21T10:00:48.601Z"
    },
    "id": "OW5Sd0Ri90Tc"
   },
   "outputs": [
    {
     "name": "stdout",
     "output_type": "stream",
     "text": [
      " * sqlite:///hubway.db\n",
      "Done.\n"
     ]
    },
    {
     "data": {
      "text/html": [
       "<table>\n",
       "    <thead>\n",
       "        <tr>\n",
       "            <th>smallest_trip</th>\n",
       "            <th>longest_trip</th>\n",
       "            <th>Average_trip</th>\n",
       "        </tr>\n",
       "    </thead>\n",
       "    <tbody>\n",
       "        <tr>\n",
       "            <td>0</td>\n",
       "            <td>9999</td>\n",
       "            <td>912.4096819046612</td>\n",
       "        </tr>\n",
       "    </tbody>\n",
       "</table>"
      ],
      "text/plain": [
       "[(0, 9999, 912.4096819046612)]"
      ]
     },
     "execution_count": 10,
     "metadata": {},
     "output_type": "execute_result"
    }
   ],
   "source": [
    "%sql select min(duration) smallest_trip ,max(duration) longest_trip ,avg(duration) Average_trip  from trips"
   ]
  },
  {
   "cell_type": "markdown",
   "metadata": {},
   "source": [
    "#### Python solution"
   ]
  },
  {
   "cell_type": "code",
   "execution_count": 11,
   "metadata": {},
   "outputs": [
    {
     "data": {
      "text/html": [
       "<div>\n",
       "<style scoped>\n",
       "    .dataframe tbody tr th:only-of-type {\n",
       "        vertical-align: middle;\n",
       "    }\n",
       "\n",
       "    .dataframe tbody tr th {\n",
       "        vertical-align: top;\n",
       "    }\n",
       "\n",
       "    .dataframe thead th {\n",
       "        text-align: right;\n",
       "    }\n",
       "</style>\n",
       "<table border=\"1\" class=\"dataframe\">\n",
       "  <thead>\n",
       "    <tr style=\"text-align: right;\">\n",
       "      <th></th>\n",
       "      <th>mean</th>\n",
       "      <th>min</th>\n",
       "      <th>max</th>\n",
       "    </tr>\n",
       "  </thead>\n",
       "  <tbody>\n",
       "    <tr>\n",
       "      <th>duration</th>\n",
       "      <td>912.409682</td>\n",
       "      <td>0.0</td>\n",
       "      <td>9999.0</td>\n",
       "    </tr>\n",
       "  </tbody>\n",
       "</table>\n",
       "</div>"
      ],
      "text/plain": [
       "                mean  min     max\n",
       "duration  912.409682  0.0  9999.0"
      ]
     },
     "execution_count": 11,
     "metadata": {},
     "output_type": "execute_result"
    }
   ],
   "source": [
    "trips.agg({'duration': ['mean', 'min', 'max']}).T"
   ]
  },
  {
   "cell_type": "markdown",
   "metadata": {
    "id": "1eK00otH90Tg"
   },
   "source": [
    "### Q2. How many trips were taken by 'Registered' users?"
   ]
  },
  {
   "cell_type": "markdown",
   "metadata": {},
   "source": [
    "#### SQL solution"
   ]
  },
  {
   "cell_type": "code",
   "execution_count": 12,
   "metadata": {
    "execution": {
     "iopub.execute_input": "2020-11-14T07:54:59.425Z",
     "iopub.status.busy": "2020-11-14T07:54:59.414Z",
     "iopub.status.idle": "2020-11-14T07:55:01.616Z",
     "shell.execute_reply": "2020-11-14T07:55:01.636Z"
    },
    "id": "fDtqSAsl90Tg"
   },
   "outputs": [
    {
     "name": "stdout",
     "output_type": "stream",
     "text": [
      " * sqlite:///hubway.db\n",
      "Done.\n"
     ]
    },
    {
     "data": {
      "text/html": [
       "<table>\n",
       "    <thead>\n",
       "        <tr>\n",
       "            <th>number_trips</th>\n",
       "        </tr>\n",
       "    </thead>\n",
       "    <tbody>\n",
       "        <tr>\n",
       "            <td>1105192</td>\n",
       "        </tr>\n",
       "    </tbody>\n",
       "</table>"
      ],
      "text/plain": [
       "[(1105192,)]"
      ]
     },
     "execution_count": 12,
     "metadata": {},
     "output_type": "execute_result"
    }
   ],
   "source": [
    "%sql select count(*) number_trips  from trips where sub_type='Registered'"
   ]
  },
  {
   "cell_type": "markdown",
   "metadata": {},
   "source": [
    "#### Python solution"
   ]
  },
  {
   "cell_type": "code",
   "execution_count": 13,
   "metadata": {},
   "outputs": [
    {
     "data": {
      "text/plain": [
       "1105192"
      ]
     },
     "execution_count": 13,
     "metadata": {},
     "output_type": "execute_result"
    }
   ],
   "source": [
    "trips[trips['sub_type']=='Registered']['id'].count()"
   ]
  },
  {
   "cell_type": "markdown",
   "metadata": {
    "id": "RiYQ1YmB90Tk"
   },
   "source": [
    "### Q3. How many trips were taken by male users in comparison to Female users? for Registered users only"
   ]
  },
  {
   "cell_type": "markdown",
   "metadata": {},
   "source": [
    "#### SQL solution"
   ]
  },
  {
   "cell_type": "code",
   "execution_count": 14,
   "metadata": {
    "execution": {
     "iopub.execute_input": "2020-10-21T10:08:37.009Z",
     "iopub.status.busy": "2020-10-21T10:08:36.999Z",
     "iopub.status.idle": "2020-10-21T10:08:37.664Z",
     "shell.execute_reply": "2020-10-21T10:08:37.685Z"
    },
    "id": "P8KHXkUM90Tl"
   },
   "outputs": [
    {
     "name": "stdout",
     "output_type": "stream",
     "text": [
      " * sqlite:///hubway.db\n",
      "Done.\n"
     ]
    },
    {
     "data": {
      "text/html": [
       "<table>\n",
       "    <thead>\n",
       "        <tr>\n",
       "            <th>gender</th>\n",
       "            <th>number_trips</th>\n",
       "        </tr>\n",
       "    </thead>\n",
       "    <tbody>\n",
       "        <tr>\n",
       "            <td>Female</td>\n",
       "            <td>271333</td>\n",
       "        </tr>\n",
       "        <tr>\n",
       "            <td>Female<br></td>\n",
       "            <td>1</td>\n",
       "        </tr>\n",
       "        <tr>\n",
       "            <td>Male</td>\n",
       "            <td>833858</td>\n",
       "        </tr>\n",
       "    </tbody>\n",
       "</table>"
      ],
      "text/plain": [
       "[('Female', 271333), ('Female\\n', 1), ('Male', 833858)]"
      ]
     },
     "execution_count": 14,
     "metadata": {},
     "output_type": "execute_result"
    }
   ],
   "source": [
    "%sql select gender,count(*) number_trips  from trips where sub_type='Registered' group by gender"
   ]
  },
  {
   "cell_type": "markdown",
   "metadata": {},
   "source": [
    "#### Python solution"
   ]
  },
  {
   "cell_type": "code",
   "execution_count": 15,
   "metadata": {},
   "outputs": [
    {
     "data": {
      "text/plain": [
       "gender\n",
       "Female      271333\n",
       "Female\\n         1\n",
       "Male        833858\n",
       "Name: id, dtype: int64"
      ]
     },
     "execution_count": 15,
     "metadata": {},
     "output_type": "execute_result"
    }
   ],
   "source": [
    "trips[trips['sub_type']=='Registered'].groupby('gender')['id'].count()"
   ]
  },
  {
   "cell_type": "markdown",
   "metadata": {
    "id": "TUYa6eNh90Tq"
   },
   "source": [
    "### Q4. Do registered or casual users take longer trips? "
   ]
  },
  {
   "cell_type": "markdown",
   "metadata": {},
   "source": [
    "#### SQL solution"
   ]
  },
  {
   "cell_type": "code",
   "execution_count": 16,
   "metadata": {
    "execution": {
     "iopub.execute_input": "2020-10-21T10:10:16.181Z",
     "iopub.status.busy": "2020-10-21T10:10:16.169Z",
     "iopub.status.idle": "2020-10-21T10:10:17.864Z",
     "shell.execute_reply": "2020-10-21T10:10:17.885Z"
    },
    "id": "ZZ7VJRul90Tq"
   },
   "outputs": [
    {
     "name": "stdout",
     "output_type": "stream",
     "text": [
      " * sqlite:///hubway.db\n",
      "Done.\n"
     ]
    },
    {
     "data": {
      "text/html": [
       "<table>\n",
       "    <thead>\n",
       "        <tr>\n",
       "            <th>sub_type</th>\n",
       "            <th>avgduration</th>\n",
       "        </tr>\n",
       "    </thead>\n",
       "    <tbody>\n",
       "        <tr>\n",
       "            <td>Casual</td>\n",
       "            <td>1519.6438967403815</td>\n",
       "        </tr>\n",
       "        <tr>\n",
       "            <td>Registered</td>\n",
       "            <td>657.0260669639302</td>\n",
       "        </tr>\n",
       "    </tbody>\n",
       "</table>"
      ],
      "text/plain": [
       "[('Casual', 1519.6438967403815), ('Registered', 657.0260669639302)]"
      ]
     },
     "execution_count": 16,
     "metadata": {},
     "output_type": "execute_result"
    }
   ],
   "source": [
    "%sql select sub_type,avg(duration) avgduration  from trips group by sub_type"
   ]
  },
  {
   "cell_type": "markdown",
   "metadata": {},
   "source": [
    "#### Python solution"
   ]
  },
  {
   "cell_type": "code",
   "execution_count": 17,
   "metadata": {},
   "outputs": [
    {
     "data": {
      "text/plain": [
       "sub_type\n",
       "Casual        1519.643897\n",
       "Registered     657.026067\n",
       "Name: duration, dtype: float64"
      ]
     },
     "execution_count": 17,
     "metadata": {},
     "output_type": "execute_result"
    }
   ],
   "source": [
    "trips.groupby('sub_type')['duration'].mean()"
   ]
  },
  {
   "cell_type": "markdown",
   "metadata": {
    "id": "hv9m6dsv90Tu"
   },
   "source": [
    "### Q5. Which bike was used for the most trips? "
   ]
  },
  {
   "cell_type": "markdown",
   "metadata": {},
   "source": [
    "#### SQL solution"
   ]
  },
  {
   "cell_type": "code",
   "execution_count": 18,
   "metadata": {
    "execution": {
     "iopub.execute_input": "2020-11-14T07:59:37.719Z",
     "iopub.status.busy": "2020-11-14T07:59:37.708Z",
     "iopub.status.idle": "2020-11-14T07:59:38.604Z",
     "shell.execute_reply": "2020-11-14T07:59:38.623Z"
    },
    "id": "8LIAd_iv90Tv"
   },
   "outputs": [
    {
     "name": "stdout",
     "output_type": "stream",
     "text": [
      " * sqlite:///hubway.db\n",
      "Done.\n"
     ]
    },
    {
     "data": {
      "text/html": [
       "<table>\n",
       "    <thead>\n",
       "        <tr>\n",
       "            <th>bike_number</th>\n",
       "            <th>number_trips</th>\n",
       "        </tr>\n",
       "    </thead>\n",
       "    <tbody>\n",
       "        <tr>\n",
       "            <td>B00490</td>\n",
       "            <td>2120</td>\n",
       "        </tr>\n",
       "    </tbody>\n",
       "</table>"
      ],
      "text/plain": [
       "[('B00490', 2120)]"
      ]
     },
     "execution_count": 18,
     "metadata": {},
     "output_type": "execute_result"
    }
   ],
   "source": [
    "%sql select bike_number,count(*) number_trips  from trips group by bike_number order by 2 desc limit 1"
   ]
  },
  {
   "cell_type": "markdown",
   "metadata": {},
   "source": [
    "#### Python solution"
   ]
  },
  {
   "cell_type": "code",
   "execution_count": 19,
   "metadata": {},
   "outputs": [
    {
     "data": {
      "text/plain": [
       "bike_number\n",
       "B00490    2120\n",
       "Name: id, dtype: int64"
      ]
     },
     "execution_count": 19,
     "metadata": {},
     "output_type": "execute_result"
    }
   ],
   "source": [
    "trips.groupby('bike_number')['id'].count().sort_values(ascending=False).head(1)"
   ]
  },
  {
   "cell_type": "markdown",
   "metadata": {
    "id": "cf3TVN2C90Tx"
   },
   "source": [
    "### Q6. What is the average duration of trips by users over the age of 30? "
   ]
  },
  {
   "cell_type": "markdown",
   "metadata": {},
   "source": [
    "#### SQL solution"
   ]
  },
  {
   "cell_type": "code",
   "execution_count": 20,
   "metadata": {
    "execution": {
     "iopub.execute_input": "2020-11-14T08:00:43.135Z",
     "iopub.status.busy": "2020-11-14T08:00:43.119Z",
     "iopub.status.idle": "2020-11-14T08:00:43.400Z",
     "shell.execute_reply": "2020-11-14T08:00:43.417Z"
    },
    "id": "BmVwA2Lm90Ty"
   },
   "outputs": [
    {
     "name": "stdout",
     "output_type": "stream",
     "text": [
      " * sqlite:///hubway.db\n",
      "Done.\n"
     ]
    },
    {
     "data": {
      "text/html": [
       "<table>\n",
       "    <thead>\n",
       "        <tr>\n",
       "            <th>AVG(duration)</th>\n",
       "        </tr>\n",
       "    </thead>\n",
       "    <tbody>\n",
       "        <tr>\n",
       "            <td>660.295194977378</td>\n",
       "        </tr>\n",
       "    </tbody>\n",
       "</table>"
      ],
      "text/plain": [
       "[(660.295194977378,)]"
      ]
     },
     "execution_count": 20,
     "metadata": {},
     "output_type": "execute_result"
    }
   ],
   "source": [
    "%sql SELECT AVG(duration) FROM trips WHERE (2021 - birth_date) > 30"
   ]
  },
  {
   "cell_type": "markdown",
   "metadata": {},
   "source": [
    "#### Python solution"
   ]
  },
  {
   "cell_type": "code",
   "execution_count": 21,
   "metadata": {},
   "outputs": [
    {
     "data": {
      "text/plain": [
       "659.6764337335354"
      ]
     },
     "execution_count": 21,
     "metadata": {},
     "output_type": "execute_result"
    }
   ],
   "source": [
    "trips[(2022-trips['birth_date'])>30]['duration'].mean()"
   ]
  },
  {
   "cell_type": "markdown",
   "metadata": {
    "id": "ucw8rEnY90T0"
   },
   "source": [
    "### Q7. Which stations are most frequently used for round trips? "
   ]
  },
  {
   "cell_type": "markdown",
   "metadata": {},
   "source": [
    "#### SQL solution"
   ]
  },
  {
   "cell_type": "code",
   "execution_count": 22,
   "metadata": {
    "execution": {
     "iopub.execute_input": "2020-11-14T08:06:26.451Z",
     "iopub.status.busy": "2020-11-14T08:06:26.437Z",
     "iopub.status.idle": "2020-11-14T08:06:26.690Z",
     "shell.execute_reply": "2020-11-14T08:06:26.709Z"
    },
    "id": "Ew6vmqkZ90T1",
    "tags": []
   },
   "outputs": [
    {
     "name": "stdout",
     "output_type": "stream",
     "text": [
      " * sqlite:///hubway.db\n",
      "Done.\n"
     ]
    },
    {
     "data": {
      "text/html": [
       "<table>\n",
       "    <thead>\n",
       "        <tr>\n",
       "            <th>start_station</th>\n",
       "            <th>number_trips</th>\n",
       "        </tr>\n",
       "    </thead>\n",
       "    <tbody>\n",
       "        <tr>\n",
       "            <td>58</td>\n",
       "            <td>3064</td>\n",
       "        </tr>\n",
       "        <tr>\n",
       "            <td>36</td>\n",
       "            <td>2548</td>\n",
       "        </tr>\n",
       "        <tr>\n",
       "            <td>42</td>\n",
       "            <td>2163</td>\n",
       "        </tr>\n",
       "        <tr>\n",
       "            <td>53</td>\n",
       "            <td>2144</td>\n",
       "        </tr>\n",
       "        <tr>\n",
       "            <td>52</td>\n",
       "            <td>1636</td>\n",
       "        </tr>\n",
       "    </tbody>\n",
       "</table>"
      ],
      "text/plain": [
       "[(58, 3064), (36, 2548), (42, 2163), (53, 2144), (52, 1636)]"
      ]
     },
     "execution_count": 22,
     "metadata": {},
     "output_type": "execute_result"
    }
   ],
   "source": [
    "%%sql \n",
    "\n",
    "SELECT t.start_station , COUNT(*) number_trips\n",
    "FROM trips t \n",
    "WHERE t.start_station = t.end_station\n",
    "GROUP BY t.start_station\n",
    "ORDER BY 2 DESC\n",
    "LIMIT 5;"
   ]
  },
  {
   "cell_type": "markdown",
   "metadata": {},
   "source": [
    "#### Python solution"
   ]
  },
  {
   "cell_type": "code",
   "execution_count": 23,
   "metadata": {},
   "outputs": [
    {
     "data": {
      "text/plain": [
       "start_station\n",
       "58.0    3064\n",
       "36.0    2548\n",
       "42.0    2163\n",
       "53.0    2144\n",
       "52.0    1636\n",
       "Name: id, dtype: int64"
      ]
     },
     "execution_count": 23,
     "metadata": {},
     "output_type": "execute_result"
    }
   ],
   "source": [
    "\n",
    "trips\\\n",
    "    .query('start_station==end_station')\\\n",
    "    .groupby('start_station')['id'].count()\\\n",
    "    .sort_values(ascending=False)\\\n",
    "    .head(5)"
   ]
  },
  {
   "cell_type": "markdown",
   "metadata": {
    "id": "gitxlr_Q90T3"
   },
   "source": [
    "### Q8. How many trips start and end in different municipalities?"
   ]
  },
  {
   "cell_type": "markdown",
   "metadata": {},
   "source": [
    "#### SQL solution"
   ]
  },
  {
   "cell_type": "code",
   "execution_count": 24,
   "metadata": {
    "execution": {
     "iopub.execute_input": "2020-10-21T10:33:54.982Z",
     "iopub.status.busy": "2020-10-21T10:33:54.965Z",
     "iopub.status.idle": "2020-10-21T10:33:56.142Z",
     "shell.execute_reply": "2020-10-21T10:33:56.169Z"
    },
    "id": "hSxmcbWY90T4"
   },
   "outputs": [
    {
     "name": "stdout",
     "output_type": "stream",
     "text": [
      " * sqlite:///hubway.db\n",
      "Done.\n"
     ]
    },
    {
     "data": {
      "text/html": [
       "<table>\n",
       "    <thead>\n",
       "        <tr>\n",
       "            <th>number_trips</th>\n",
       "        </tr>\n",
       "    </thead>\n",
       "    <tbody>\n",
       "        <tr>\n",
       "            <td>309748</td>\n",
       "        </tr>\n",
       "    </tbody>\n",
       "</table>"
      ],
      "text/plain": [
       "[(309748,)]"
      ]
     },
     "execution_count": 24,
     "metadata": {},
     "output_type": "execute_result"
    }
   ],
   "source": [
    "%%sql\n",
    "\n",
    "SELECT COUNT(*) number_trips\n",
    "FROM trips t \n",
    "JOIN stations AS s_start ON t.start_station = s_start.id\n",
    "JOIN stations AS s_end ON t.end_station = s_end.id\n",
    "WHERE s_start.municipality <> s_end.municipality"
   ]
  },
  {
   "cell_type": "markdown",
   "metadata": {},
   "source": [
    "#### Python solution"
   ]
  },
  {
   "cell_type": "code",
   "execution_count": 25,
   "metadata": {},
   "outputs": [
    {
     "data": {
      "text/plain": [
       "309748"
      ]
     },
     "execution_count": 25,
     "metadata": {},
     "output_type": "execute_result"
    }
   ],
   "source": [
    "\n",
    "trips.dropna(subset=['start_station','end_station'])\\\n",
    "    .merge(stations.dropna(subset=['id'])\\\n",
    "           ,how='left', left_on='start_station',right_on='id')\\\n",
    "    .merge(stations.dropna(subset=['id'])\n",
    "           ,how='left', left_on='end_station',right_on='id',suffixes=('_start_station','_end_station'))\\\n",
    "    .query('municipality_start_station!=municipality_end_station')\\\n",
    "    ['id'].count()"
   ]
  },
  {
   "cell_type": "markdown",
   "metadata": {
    "id": "VMIUioIk90T7"
   },
   "source": [
    "### Q9. How many trips incurred additional fees (lasted longer than 30 minutes)?"
   ]
  },
  {
   "cell_type": "markdown",
   "metadata": {},
   "source": [
    "#### SQL solution"
   ]
  },
  {
   "cell_type": "code",
   "execution_count": 26,
   "metadata": {
    "execution": {
     "iopub.execute_input": "2020-10-21T10:43:03.107Z",
     "iopub.status.busy": "2020-10-21T10:43:03.095Z",
     "iopub.status.idle": "2020-10-21T10:43:03.343Z",
     "shell.execute_reply": "2020-10-21T10:43:03.363Z"
    },
    "id": "fdR9aX5290T8",
    "scrolled": true
   },
   "outputs": [
    {
     "name": "stdout",
     "output_type": "stream",
     "text": [
      " * sqlite:///hubway.db\n",
      "Done.\n"
     ]
    },
    {
     "data": {
      "text/html": [
       "<table>\n",
       "    <thead>\n",
       "        <tr>\n",
       "            <th>count(*)</th>\n",
       "        </tr>\n",
       "    </thead>\n",
       "    <tbody>\n",
       "        <tr>\n",
       "            <td>123155</td>\n",
       "        </tr>\n",
       "    </tbody>\n",
       "</table>"
      ],
      "text/plain": [
       "[(123155,)]"
      ]
     },
     "execution_count": 26,
     "metadata": {},
     "output_type": "execute_result"
    }
   ],
   "source": [
    "%sql select count(*) from trips where CAST(duration AS FLOAT)/60 > 30"
   ]
  },
  {
   "cell_type": "markdown",
   "metadata": {},
   "source": [
    "#### Python solution"
   ]
  },
  {
   "cell_type": "code",
   "execution_count": 27,
   "metadata": {},
   "outputs": [
    {
     "data": {
      "text/plain": [
       "123155"
      ]
     },
     "execution_count": 27,
     "metadata": {},
     "output_type": "execute_result"
    }
   ],
   "source": [
    "trips[(trips['duration']/60)>30]['id'].count()"
   ]
  },
  {
   "cell_type": "markdown",
   "metadata": {
    "id": "ksQvYCPY90T_"
   },
   "source": [
    "### Q10. Which bike was used for the longest total time? Provide the answer in Hours"
   ]
  },
  {
   "cell_type": "markdown",
   "metadata": {},
   "source": [
    "#### SQL solution"
   ]
  },
  {
   "cell_type": "code",
   "execution_count": 28,
   "metadata": {
    "execution": {
     "iopub.execute_input": "2020-10-21T10:45:25.780Z",
     "iopub.status.busy": "2020-10-21T10:45:25.769Z",
     "iopub.status.idle": "2020-10-21T10:45:27.095Z",
     "shell.execute_reply": "2020-10-21T10:45:27.114Z"
    },
    "id": "od0_jInW90UA"
   },
   "outputs": [
    {
     "name": "stdout",
     "output_type": "stream",
     "text": [
      " * sqlite:///hubway.db\n",
      "Done.\n"
     ]
    },
    {
     "data": {
      "text/html": [
       "<table>\n",
       "    <thead>\n",
       "        <tr>\n",
       "            <th>bike_number</th>\n",
       "            <th>hour_used</th>\n",
       "        </tr>\n",
       "    </thead>\n",
       "    <tbody>\n",
       "        <tr>\n",
       "            <td>B00490</td>\n",
       "            <td>571.8452777777778</td>\n",
       "        </tr>\n",
       "    </tbody>\n",
       "</table>"
      ],
      "text/plain": [
       "[('B00490', 571.8452777777778)]"
      ]
     },
     "execution_count": 28,
     "metadata": {},
     "output_type": "execute_result"
    }
   ],
   "source": [
    "%sql select bike_number,CAST(sum(duration) AS FLOAT) /3600 hour_used from trips group by bike_number order by 2 desc limit 1"
   ]
  },
  {
   "cell_type": "markdown",
   "metadata": {},
   "source": [
    "#### Python solution"
   ]
  },
  {
   "cell_type": "code",
   "execution_count": 29,
   "metadata": {},
   "outputs": [
    {
     "data": {
      "text/html": [
       "<div>\n",
       "<style scoped>\n",
       "    .dataframe tbody tr th:only-of-type {\n",
       "        vertical-align: middle;\n",
       "    }\n",
       "\n",
       "    .dataframe tbody tr th {\n",
       "        vertical-align: top;\n",
       "    }\n",
       "\n",
       "    .dataframe thead th {\n",
       "        text-align: right;\n",
       "    }\n",
       "</style>\n",
       "<table border=\"1\" class=\"dataframe\">\n",
       "  <thead>\n",
       "    <tr style=\"text-align: right;\">\n",
       "      <th></th>\n",
       "      <th>bike_number</th>\n",
       "      <th>duration</th>\n",
       "      <th>total_duration_hours</th>\n",
       "    </tr>\n",
       "  </thead>\n",
       "  <tbody>\n",
       "    <tr>\n",
       "      <th>504</th>\n",
       "      <td>B00490</td>\n",
       "      <td>2058643</td>\n",
       "      <td>571.845278</td>\n",
       "    </tr>\n",
       "  </tbody>\n",
       "</table>\n",
       "</div>"
      ],
      "text/plain": [
       "    bike_number  duration  total_duration_hours\n",
       "504      B00490   2058643            571.845278"
      ]
     },
     "execution_count": 29,
     "metadata": {},
     "output_type": "execute_result"
    }
   ],
   "source": [
    "\n",
    "trips\\\n",
    "    .groupby('bike_number',as_index=False)['duration'].sum()\\\n",
    "    .eval('total_duration_hours=duration/3600')\\\n",
    "    .sort_values(by='total_duration_hours',ascending=False)\\\n",
    "    .head(1)"
   ]
  },
  {
   "cell_type": "markdown",
   "metadata": {
    "id": "WoBja5Bi90UD"
   },
   "source": [
    "### Q11. Did registered or casual users take more round trips?"
   ]
  },
  {
   "cell_type": "markdown",
   "metadata": {},
   "source": [
    "#### SQL solution"
   ]
  },
  {
   "cell_type": "code",
   "execution_count": 30,
   "metadata": {
    "execution": {
     "iopub.execute_input": "2020-10-21T10:48:08.805Z",
     "iopub.status.busy": "2020-10-21T10:48:08.791Z",
     "iopub.status.idle": "2020-10-21T10:48:09.136Z",
     "shell.execute_reply": "2020-10-21T10:48:09.158Z"
    },
    "id": "hMmdNfE590UE"
   },
   "outputs": [
    {
     "name": "stdout",
     "output_type": "stream",
     "text": [
      " * sqlite:///hubway.db\n",
      "Done.\n"
     ]
    },
    {
     "data": {
      "text/html": [
       "<table>\n",
       "    <thead>\n",
       "        <tr>\n",
       "            <th>sub_type</th>\n",
       "            <th>number_trips</th>\n",
       "        </tr>\n",
       "    </thead>\n",
       "    <tbody>\n",
       "        <tr>\n",
       "            <td>Casual</td>\n",
       "            <td>41427</td>\n",
       "        </tr>\n",
       "        <tr>\n",
       "            <td>Registered</td>\n",
       "            <td>31635</td>\n",
       "        </tr>\n",
       "    </tbody>\n",
       "</table>"
      ],
      "text/plain": [
       "[('Casual', 41427), ('Registered', 31635)]"
      ]
     },
     "execution_count": 30,
     "metadata": {},
     "output_type": "execute_result"
    }
   ],
   "source": [
    "%%sql \n",
    "\n",
    "SELECT t.sub_type , COUNT(*) number_trips\n",
    "FROM trips t \n",
    "WHERE t.start_station = t.end_station\n",
    "GROUP BY t.sub_type\n",
    "ORDER BY 2 DESC;"
   ]
  },
  {
   "cell_type": "markdown",
   "metadata": {},
   "source": [
    "#### Python solution"
   ]
  },
  {
   "cell_type": "code",
   "execution_count": 31,
   "metadata": {},
   "outputs": [
    {
     "data": {
      "text/plain": [
       "sub_type\n",
       "Casual        41427\n",
       "Registered    31635\n",
       "Name: id, dtype: int64"
      ]
     },
     "execution_count": 31,
     "metadata": {},
     "output_type": "execute_result"
    }
   ],
   "source": [
    "\n",
    "trips\\\n",
    "    .query('start_station==end_station')\\\n",
    "    .groupby('sub_type')['id'].count()"
   ]
  },
  {
   "cell_type": "markdown",
   "metadata": {
    "id": "3HQvpScA90UG"
   },
   "source": [
    "### Q12. Which municipality had the most frequent Station End?"
   ]
  },
  {
   "cell_type": "markdown",
   "metadata": {},
   "source": [
    "#### SQL solution"
   ]
  },
  {
   "cell_type": "code",
   "execution_count": 32,
   "metadata": {
    "execution": {
     "iopub.execute_input": "2020-10-21T12:39:32.733Z",
     "iopub.status.busy": "2020-10-21T12:39:32.718Z",
     "iopub.status.idle": "2020-10-21T12:39:33.955Z",
     "shell.execute_reply": "2020-10-21T12:39:33.975Z"
    },
    "id": "l3UJnvRV90UH"
   },
   "outputs": [
    {
     "name": "stdout",
     "output_type": "stream",
     "text": [
      " * sqlite:///hubway.db\n",
      "Done.\n"
     ]
    },
    {
     "data": {
      "text/html": [
       "<table>\n",
       "    <thead>\n",
       "        <tr>\n",
       "            <th>municipality</th>\n",
       "            <th>number_trips</th>\n",
       "        </tr>\n",
       "    </thead>\n",
       "    <tbody>\n",
       "        <tr>\n",
       "            <td>Boston</td>\n",
       "            <td>1212364</td>\n",
       "        </tr>\n",
       "    </tbody>\n",
       "</table>"
      ],
      "text/plain": [
       "[('Boston', 1212364)]"
      ]
     },
     "execution_count": 32,
     "metadata": {},
     "output_type": "execute_result"
    }
   ],
   "source": [
    "%%sql\n",
    "\n",
    "SELECT s_end.municipality,COUNT(*) number_trips\n",
    "FROM trips t \n",
    "JOIN stations AS s_end ON t.end_station = s_end.id\n",
    "group by s_end.municipality\n",
    "order by 2 desc\n",
    "limit 1"
   ]
  },
  {
   "cell_type": "markdown",
   "metadata": {},
   "source": [
    "#### Python solution"
   ]
  },
  {
   "cell_type": "code",
   "execution_count": 36,
   "metadata": {},
   "outputs": [
    {
     "data": {
      "text/plain": [
       "municipality\n",
       "Boston    1212364\n",
       "Name: id_trips, dtype: int64"
      ]
     },
     "execution_count": 36,
     "metadata": {},
     "output_type": "execute_result"
    }
   ],
   "source": [
    "##PYTHON SOLUTION\n",
    "\n",
    "trips.dropna(subset=['end_station'])\\\n",
    "    .merge(stations.dropna(subset=['id'])\n",
    "           ,how='left', left_on='end_station',right_on='id',suffixes=('_trips','_end_station'))\\\n",
    "    .groupby('municipality')['id_trips'].count()\\\n",
    "    .sort_values(ascending=False)\\\n",
    "    .head(1)"
   ]
  },
  {
   "cell_type": "code",
   "execution_count": null,
   "metadata": {},
   "outputs": [],
   "source": []
  }
 ],
 "metadata": {
  "colab": {
   "name": "Assignment SQL - Analyzing Hubway Trips.ipynb",
   "provenance": []
  },
  "kernel_info": {
   "name": "python3"
  },
  "kernelspec": {
   "display_name": "Python 3 (ipykernel)",
   "language": "python",
   "name": "python3"
  },
  "language_info": {
   "codemirror_mode": {
    "name": "ipython",
    "version": 3
   },
   "file_extension": ".py",
   "mimetype": "text/x-python",
   "name": "python",
   "nbconvert_exporter": "python",
   "pygments_lexer": "ipython3",
   "version": "3.10.9"
  },
  "nteract": {
   "version": "0.28.0"
  }
 },
 "nbformat": 4,
 "nbformat_minor": 1
}
